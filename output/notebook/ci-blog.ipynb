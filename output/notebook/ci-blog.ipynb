{
 "cells": [
  {
   "cell_type": "markdown",
   "metadata": {},
   "source": [
    "title: Hello Data!\n",
    "author: Heather Ann Dye\n",
    "date: 10/26/2022\n",
    "category: data science"
   ]
  },
  {
   "cell_type": "markdown",
   "metadata": {},
   "source": [
    "\n",
    "\n",
    "\n",
    "\n",
    "Hello data science! This is the first post in my data science blog. I enjoy creating examples and simulations, so let's look at confidence intervals. \n",
    "We frequently talk about 95% or 90% confidence intervals. "
   ]
  },
  {
   "cell_type": "code",
   "execution_count": 37,
   "metadata": {},
   "outputs": [],
   "source": [
    "import random \n",
    "import pandas as pd\n"
   ]
  },
  {
   "cell_type": "code",
   "execution_count": 38,
   "metadata": {},
   "outputs": [],
   "source": [
    "mydata = pd.Series([random.uniform(0,10) for i in range(50)])"
   ]
  },
  {
   "cell_type": "code",
   "execution_count": 39,
   "metadata": {},
   "outputs": [
    {
     "name": "stdout",
     "output_type": "stream",
     "text": [
      "<class 'pandas.core.series.Series'>\n",
      "RangeIndex: 50 entries, 0 to 49\n",
      "Series name: None\n",
      "Non-Null Count  Dtype  \n",
      "--------------  -----  \n",
      "50 non-null     float64\n",
      "dtypes: float64(1)\n",
      "memory usage: 528.0 bytes\n"
     ]
    }
   ],
   "source": [
    "mydata.info()"
   ]
  },
  {
   "cell_type": "code",
   "execution_count": 40,
   "metadata": {},
   "outputs": [
    {
     "data": {
      "text/plain": [
       "count    50.000000\n",
       "mean      4.986736\n",
       "std       2.963061\n",
       "min       0.731407\n",
       "25%       2.793014\n",
       "50%       4.562617\n",
       "75%       7.390619\n",
       "max       9.891003\n",
       "dtype: float64"
      ]
     },
     "execution_count": 40,
     "metadata": {},
     "output_type": "execute_result"
    }
   ],
   "source": [
    "mydata.describe()"
   ]
  },
  {
   "cell_type": "code",
   "execution_count": 14,
   "metadata": {},
   "outputs": [],
   "source": [
    "from scipy.stats import t"
   ]
  },
  {
   "cell_type": "code",
   "execution_count": 35,
   "metadata": {},
   "outputs": [
    {
     "data": {
      "text/plain": [
       "<AxesSubplot: >"
      ]
     },
     "execution_count": 35,
     "metadata": {},
     "output_type": "execute_result"
    },
    {
     "data": {
      "image/png": "[encoded data removed]",
      "text/plain": [
       "<Figure size 640x480 with 1 Axes>"
      ]
     },
     "metadata": {},
     "output_type": "display_data"
    }
   ],
   "source": [
    "import matplotlib\n",
    "type(mydata)\n",
    "mydata.hist()"
   ]
  },
  {
   "cell_type": "code",
   "execution_count": 41,
   "metadata": {},
   "outputs": [],
   "source": [
    "t_alpha = t.ppf(0.95, df=49)"
   ]
  },
  {
   "cell_type": "markdown",
   "metadata": {},
   "source": [
    "Note that the confidence interval formula is: $$\\bar{x} \\pm \\frac{s}{\\sqrt{n}} t_{\\alpha, df}.$$"
   ]
  },
  {
   "cell_type": "code",
   "execution_count": 42,
   "metadata": {},
   "outputs": [],
   "source": [
    "xbar= mydata.mean()\n",
    "mysd = mydata.std()"
   ]
  },
  {
   "cell_type": "code",
   "execution_count": 43,
   "metadata": {},
   "outputs": [
    {
     "data": {
      "text/plain": [
       "(4.284194065272484, 5.689278265326205)"
      ]
     },
     "execution_count": 43,
     "metadata": {},
     "output_type": "execute_result"
    }
   ],
   "source": [
    "from numpy import sqrt\n",
    "(xbar - mysd/ sqrt(len(mydata)) * t.ppf(0.95, len(mydata)-1), xbar + mysd/ sqrt(len(mydata)) * t.ppf(0.95, len(mydata)-1))"
   ]
  },
  {
   "cell_type": "markdown",
   "metadata": {},
   "source": [
    "Now, we can investigate what exactly the confidence level means. "
   ]
  },
  {
   "cell_type": "code",
   "execution_count": 44,
   "metadata": {},
   "outputs": [],
   "source": [
    "def student_t_confidence(data):\n",
    "    xbar = data.mean()\n",
    "    mysd = data.std()/sqrt(len(data))\n",
    "    tsig = t.ppf(0.95, len(data)-1)\n",
    "    return (xbar - mysd*tsig, xbar+mysd*tsig )"
   ]
  },
  {
   "cell_type": "code",
   "execution_count": 45,
   "metadata": {},
   "outputs": [
    {
     "data": {
      "text/plain": [
       "(4.284194065272484, 5.689278265326205)"
      ]
     },
     "execution_count": 45,
     "metadata": {},
     "output_type": "execute_result"
    }
   ],
   "source": [
    "student_t_confidence(mydata)"
   ]
  },
  {
   "cell_type": "code",
   "execution_count": 54,
   "metadata": {},
   "outputs": [],
   "source": [
    "\n",
    "def make_some_fake_data(count: int):\n",
    "    local_df = pd.DataFrame()\n",
    "    for i in range(20):\n",
    "        local_list =[random.uniform(0,10) for j in range(50)]\n",
    "        local_df[f\"sample {i}\"]=local_list\n",
    "    return local_df\n",
    "    \n"
   ]
  },
  {
   "cell_type": "code",
   "execution_count": 55,
   "metadata": {},
   "outputs": [],
   "source": [
    "mydf = make_some_fake_data(4)"
   ]
  },
  {
   "cell_type": "code",
   "execution_count": 56,
   "metadata": {},
   "outputs": [
    {
     "name": "stdout",
     "output_type": "stream",
     "text": [
      "<class 'pandas.core.frame.DataFrame'>\n",
      "RangeIndex: 50 entries, 0 to 49\n",
      "Data columns (total 20 columns):\n",
      " #   Column     Non-Null Count  Dtype  \n",
      "---  ------     --------------  -----  \n",
      " 0   sample 0   50 non-null     float64\n",
      " 1   sample 1   50 non-null     float64\n",
      " 2   sample 2   50 non-null     float64\n",
      " 3   sample 3   50 non-null     float64\n",
      " 4   sample 4   50 non-null     float64\n",
      " 5   sample 5   50 non-null     float64\n",
      " 6   sample 6   50 non-null     float64\n",
      " 7   sample 7   50 non-null     float64\n",
      " 8   sample 8   50 non-null     float64\n",
      " 9   sample 9   50 non-null     float64\n",
      " 10  sample 10  50 non-null     float64\n",
      " 11  sample 11  50 non-null     float64\n",
      " 12  sample 12  50 non-null     float64\n",
      " 13  sample 13  50 non-null     float64\n",
      " 14  sample 14  50 non-null     float64\n",
      " 15  sample 15  50 non-null     float64\n",
      " 16  sample 16  50 non-null     float64\n",
      " 17  sample 17  50 non-null     float64\n",
      " 18  sample 18  50 non-null     float64\n",
      " 19  sample 19  50 non-null     float64\n",
      "dtypes: float64(20)\n",
      "memory usage: 7.9 KB\n"
     ]
    }
   ],
   "source": [
    "mydf.info()"
   ]
  },
  {
   "cell_type": "code",
   "execution_count": 77,
   "metadata": {},
   "outputs": [],
   "source": [
    "mydict = {}\n",
    "for j in range(mydf.shape[1]):\n",
    "    results = student_t_confidence(mydf.iloc[:,j])\n",
    "    mydict.update({j:results})\n"
   ]
  },
  {
   "cell_type": "code",
   "execution_count": 78,
   "metadata": {},
   "outputs": [
    {
     "data": {
      "text/plain": [
       "dict_keys([0, 1, 2, 3, 4, 5, 6, 7, 8, 9, 10, 11, 12, 13, 14, 15, 16, 17, 18, 19])"
      ]
     },
     "execution_count": 78,
     "metadata": {},
     "output_type": "execute_result"
    }
   ],
   "source": [
    "\n",
    "mydict.keys()"
   ]
  },
  {
   "cell_type": "code",
   "execution_count": 80,
   "metadata": {},
   "outputs": [],
   "source": [
    "def count_the_good_ones(local_dict, truemean):\n",
    "    count = 0 \n",
    "    for i in range(len(local_dict)):\n",
    "        therange = local_dict.get(i)\n",
    "        if therange[0] < truemean and therange[1]> truemean:\n",
    "            count +=1 \n",
    "    return count "
   ]
  },
  {
   "cell_type": "code",
   "execution_count": 81,
   "metadata": {},
   "outputs": [],
   "source": [
    "thenum = count_the_good_ones(mydict, 5)"
   ]
  },
  {
   "cell_type": "code",
   "execution_count": 82,
   "metadata": {},
   "outputs": [
    {
     "data": {
      "text/plain": [
       "17"
      ]
     },
     "execution_count": 82,
     "metadata": {},
     "output_type": "execute_result"
    }
   ],
   "source": [
    "thenum"
   ]
  },
  {
   "cell_type": "code",
   "execution_count": 104,
   "metadata": {},
   "outputs": [
    {
     "data": {
      "image/png": "[encoded data removed]",
      "text/plain": [
       "<Figure size 200x200 with 1 Axes>"
      ]
     },
     "metadata": {},
     "output_type": "display_data"
    }
   ],
   "source": [
    "import matplotlib.pyplot as plt\n",
    "import numpy as np\n",
    "\n",
    "plt.plot([5 for i in range(20)])\n",
    "themins = [mydict.get(i)[0] for i in range(20)]\n",
    "plt.plot(themins, 'bs')\n",
    "themax = [mydict.get(i)[1] for i in range(20)]\n",
    "plt.plot(themax, 'rs')\n",
    "for i in range(20):\n",
    "    plt.vlines(x=i, ymin=themins[i], ymax=themax[i])"
   ]
  },
  {
   "cell_type": "code",
   "execution_count": null,
   "metadata": {},
   "outputs": [],
   "source": []
  }
 ],
 "metadata": {
  "kernelspec": {
   "display_name": "Python 3.9.13 ('data')",
   "language": "python",
   "name": "python3"
  },
  "language_info": {
   "codemirror_mode": {
    "name": "ipython",
    "version": 3
   },
   "file_extension": ".py",
   "mimetype": "text/x-python",
   "name": "python",
   "nbconvert_exporter": "python",
   "pygments_lexer": "ipython3",
   "version": "3.9.13"
  },
  "orig_nbformat": 4,
  "vscode": {
   "interpreter": {
    "hash": "ded2bde6ebebe3729c45715a4e650b43e9e5c47720acc34989ffacd3b0324930"
   }
  }
 },
 "nbformat": 4,
 "nbformat_minor": 2
}
